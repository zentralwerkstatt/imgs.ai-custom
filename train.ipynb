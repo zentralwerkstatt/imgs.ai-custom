{
  "cells": [
    {
      "cell_type": "code",
      "execution_count": null,
      "metadata": {
        "id": "CbrSPFpLsRRC"
      },
      "outputs": [],
      "source": [
        "# Everything else should be installed by default\n",
        "!pip install annoy\n",
        "!pip install git+https://github.com/zentralwerkstatt/CLIP.git"
      ]
    },
    {
      "cell_type": "code",
      "execution_count": null,
      "metadata": {
        "cellView": "code",
        "colab": {
          "base_uri": "https://localhost:8080/"
        },
        "id": "hM7KfDiHqmyA",
        "outputId": "89a038fd-2f6e-49fd-c5ee-489bec5ef1eb"
      },
      "outputs": [
        {
          "name": "stderr",
          "output_type": "stream",
          "text": [
            "2021-11-09 03:09:03,249 : INFO : root : Succesfully set up logging\n"
          ]
        },
        {
          "name": "stdout",
          "output_type": "stream",
          "text": [
            "Tue Nov  9 03:09:03 2021       \n",
            "+-----------------------------------------------------------------------------+\n",
            "| NVIDIA-SMI 495.44       Driver Version: 460.32.03    CUDA Version: 11.2     |\n",
            "|-------------------------------+----------------------+----------------------+\n",
            "| GPU  Name        Persistence-M| Bus-Id        Disp.A | Volatile Uncorr. ECC |\n",
            "| Fan  Temp  Perf  Pwr:Usage/Cap|         Memory-Usage | GPU-Util  Compute M. |\n",
            "|                               |                      |               MIG M. |\n",
            "|===============================+======================+======================|\n",
            "|   0  Tesla V100-SXM2...  Off  | 00000000:00:04.0 Off |                    0 |\n",
            "| N/A   35C    P0    25W / 300W |      2MiB / 16160MiB |      0%      Default |\n",
            "|                               |                      |                  N/A |\n",
            "+-------------------------------+----------------------+----------------------+\n",
            "                                                                               \n",
            "+-----------------------------------------------------------------------------+\n",
            "| Processes:                                                                  |\n",
            "|  GPU   GI   CI        PID   Type   Process name                  GPU Memory |\n",
            "|        ID   ID                                                   Usage      |\n",
            "|=============================================================================|\n",
            "|  No running processes found                                                 |\n",
            "+-----------------------------------------------------------------------------+\n"
          ]
        }
      ],
      "source": [
        "!nvidia-smi"
      ]
    },
    {
      "cell_type": "code",
      "execution_count": null,
      "metadata": {
        "id": "Y8bhEiGPawm0"
      },
      "outputs": [],
      "source": [
        "!git clone https://github.com/zentralwerkstatt/imgs.ai-custom # Has notebook version of tqdm\n",
        "!mv imgs.ai-custom train # Invalid module name\n",
        "from tqdm.notebook import tqdm # Replace with notebook version"
      ]
    },
    {
      "cell_type": "markdown",
      "metadata": {
        "id": "LIABw9ilZLJx"
      },
      "source": [
        "**The below assumes that both your data and your model live/will live in your Google Drive. Edit `./train/embedders.pytxt` and parameters below to fit your needs, then run the cell. See `./train/train.py` for advanced training parameters.**"
      ]
    },
    {
      "cell_type": "code",
      "execution_count": null,
      "metadata": {
        "colab": {
          "background_save": true
        },
        "id": "D8P7OkOyuG5H"
      },
      "outputs": [],
      "source": [
        "from train import train\n",
        "\n",
        "train.make_model(model_folder=\"/content/drive/MyDrive/new_model\",\n",
        "                embedders_file=\"train/embedders.pytxt\",\n",
        "                data_root=\"/content/drive/MyDrive/data.csv\", # CSV file or folder\n",
        "                build=True)"
      ]
    }
  ],
  "metadata": {
    "accelerator": "GPU",
    "colab": {
      "collapsed_sections": [],
      "machine_shape": "hm",
      "name": "imgs.ai-custom.ipynb",
      "provenance": []
    },
    "kernelspec": {
      "display_name": "Python 3",
      "name": "python3"
    },
    "language_info": {
      "name": "python"
    }
  },
  "nbformat": 4,
  "nbformat_minor": 0
}
